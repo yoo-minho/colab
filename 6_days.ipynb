{
  "nbformat": 4,
  "nbformat_minor": 0,
  "metadata": {
    "colab": {
      "name": "6 days.ipynb",
      "provenance": [],
      "authorship_tag": "ABX9TyNMEx9OSYOwRMg6wmkhYUHy",
      "include_colab_link": true
    },
    "kernelspec": {
      "name": "python3",
      "display_name": "Python 3"
    },
    "language_info": {
      "name": "python"
    }
  },
  "cells": [
    {
      "cell_type": "markdown",
      "metadata": {
        "id": "view-in-github",
        "colab_type": "text"
      },
      "source": [
        "<a href=\"https://colab.research.google.com/github/yoo-minho/colab/blob/main/6_days.ipynb\" target=\"_parent\"><img src=\"https://colab.research.google.com/assets/colab-badge.svg\" alt=\"Open In Colab\"/></a>"
      ]
    },
    {
      "cell_type": "code",
      "metadata": {
        "id": "k69zHHAy797O"
      },
      "source": [
        "import os\n",
        "import pandas as pd\n",
        "import numpy as np\n",
        "\n",
        "# 데이터 폴더 src 변수 할당\n",
        "base_src = './drive/MyDrive/machine_learning_data'\n",
        "\n",
        "# friend.csv 파일 src 변수 할당\n",
        "friend_src = base_src + '/abalone.data' \n",
        "\n",
        "# pandas의 read_csv => 데이터 불러오기\n",
        "abalone_df = pd.read_csv(base_src+'/abalone.data',\n",
        "             header=None,\n",
        "             sep=',',\n",
        "             names=['sex','length','diameter','height', \n",
        "                  'whole_weight','shucked_weight','viscera_weight', \n",
        "                  'shell_weight','rings'])\n",
        "abalone_df"
      ],
      "execution_count": null,
      "outputs": []
    }
  ]
}