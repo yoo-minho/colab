{
  "nbformat": 4,
  "nbformat_minor": 0,
  "metadata": {
    "colab": {
      "name": "5 days.ipynb",
      "provenance": [],
      "mount_file_id": "1TJrkDhTqmT8Bwv8zRFQVhFGgSQPova17",
      "authorship_tag": "ABX9TyN8kuD08j5ZZjwucA3TkUO7",
      "include_colab_link": true
    },
    "kernelspec": {
      "name": "python3",
      "display_name": "Python 3"
    },
    "language_info": {
      "name": "python"
    }
  },
  "cells": [
    {
      "cell_type": "markdown",
      "metadata": {
        "id": "view-in-github",
        "colab_type": "text"
      },
      "source": [
        "<a href=\"https://colab.research.google.com/github/yoo-minho/colab/blob/main/5_days.ipynb\" target=\"_parent\"><img src=\"https://colab.research.google.com/assets/colab-badge.svg\" alt=\"Open In Colab\"/></a>"
      ]
    },
    {
      "cell_type": "code",
      "metadata": {
        "colab": {
          "base_uri": "https://localhost:8080/",
          "height": 419
        },
        "id": "Dc8qkuHkuVmU",
        "outputId": "13f9f2a6-d76b-4f8a-bf46-7facb2b3845d"
      },
      "source": [
        "import os\n",
        "import pandas as pd\n",
        "import numpy as np\n",
        "\n",
        "# 데이터 폴더 src 변수 할당\n",
        "base_src = './drive/MyDrive/machine_learning_data'\n",
        "\n",
        "# friend.csv 파일 src 변수 할당\n",
        "friend_src = base_src + '/abalone.data' \n",
        "\n",
        "# pandas의 read_csv => 데이터 불러오기\n",
        "abalone_df = pd.read_csv(base_src+'/abalone.data',\n",
        "             header=None,\n",
        "             sep=',',\n",
        "             names=['sex','length','diameter','height', \n",
        "                  'whole_weight','shucked_weight','viscera_weight', \n",
        "                  'shell_weight','rings'])\n",
        "abalone_df"
      ],
      "execution_count": 8,
      "outputs": [
        {
          "output_type": "execute_result",
          "data": {
            "text/html": [
              "<div>\n",
              "<style scoped>\n",
              "    .dataframe tbody tr th:only-of-type {\n",
              "        vertical-align: middle;\n",
              "    }\n",
              "\n",
              "    .dataframe tbody tr th {\n",
              "        vertical-align: top;\n",
              "    }\n",
              "\n",
              "    .dataframe thead th {\n",
              "        text-align: right;\n",
              "    }\n",
              "</style>\n",
              "<table border=\"1\" class=\"dataframe\">\n",
              "  <thead>\n",
              "    <tr style=\"text-align: right;\">\n",
              "      <th></th>\n",
              "      <th>sex</th>\n",
              "      <th>length</th>\n",
              "      <th>diameter</th>\n",
              "      <th>height</th>\n",
              "      <th>whole_weight</th>\n",
              "      <th>shucked_weight</th>\n",
              "      <th>viscera_weight</th>\n",
              "      <th>shell_weight</th>\n",
              "      <th>rings</th>\n",
              "    </tr>\n",
              "  </thead>\n",
              "  <tbody>\n",
              "    <tr>\n",
              "      <th>0</th>\n",
              "      <td>M</td>\n",
              "      <td>0.455</td>\n",
              "      <td>0.365</td>\n",
              "      <td>0.095</td>\n",
              "      <td>0.5140</td>\n",
              "      <td>0.2245</td>\n",
              "      <td>0.1010</td>\n",
              "      <td>0.1500</td>\n",
              "      <td>15</td>\n",
              "    </tr>\n",
              "    <tr>\n",
              "      <th>1</th>\n",
              "      <td>M</td>\n",
              "      <td>0.350</td>\n",
              "      <td>0.265</td>\n",
              "      <td>0.090</td>\n",
              "      <td>0.2255</td>\n",
              "      <td>0.0995</td>\n",
              "      <td>0.0485</td>\n",
              "      <td>0.0700</td>\n",
              "      <td>7</td>\n",
              "    </tr>\n",
              "    <tr>\n",
              "      <th>2</th>\n",
              "      <td>F</td>\n",
              "      <td>0.530</td>\n",
              "      <td>0.420</td>\n",
              "      <td>0.135</td>\n",
              "      <td>0.6770</td>\n",
              "      <td>0.2565</td>\n",
              "      <td>0.1415</td>\n",
              "      <td>0.2100</td>\n",
              "      <td>9</td>\n",
              "    </tr>\n",
              "    <tr>\n",
              "      <th>3</th>\n",
              "      <td>M</td>\n",
              "      <td>0.440</td>\n",
              "      <td>0.365</td>\n",
              "      <td>0.125</td>\n",
              "      <td>0.5160</td>\n",
              "      <td>0.2155</td>\n",
              "      <td>0.1140</td>\n",
              "      <td>0.1550</td>\n",
              "      <td>10</td>\n",
              "    </tr>\n",
              "    <tr>\n",
              "      <th>4</th>\n",
              "      <td>I</td>\n",
              "      <td>0.330</td>\n",
              "      <td>0.255</td>\n",
              "      <td>0.080</td>\n",
              "      <td>0.2050</td>\n",
              "      <td>0.0895</td>\n",
              "      <td>0.0395</td>\n",
              "      <td>0.0550</td>\n",
              "      <td>7</td>\n",
              "    </tr>\n",
              "    <tr>\n",
              "      <th>...</th>\n",
              "      <td>...</td>\n",
              "      <td>...</td>\n",
              "      <td>...</td>\n",
              "      <td>...</td>\n",
              "      <td>...</td>\n",
              "      <td>...</td>\n",
              "      <td>...</td>\n",
              "      <td>...</td>\n",
              "      <td>...</td>\n",
              "    </tr>\n",
              "    <tr>\n",
              "      <th>4172</th>\n",
              "      <td>F</td>\n",
              "      <td>0.565</td>\n",
              "      <td>0.450</td>\n",
              "      <td>0.165</td>\n",
              "      <td>0.8870</td>\n",
              "      <td>0.3700</td>\n",
              "      <td>0.2390</td>\n",
              "      <td>0.2490</td>\n",
              "      <td>11</td>\n",
              "    </tr>\n",
              "    <tr>\n",
              "      <th>4173</th>\n",
              "      <td>M</td>\n",
              "      <td>0.590</td>\n",
              "      <td>0.440</td>\n",
              "      <td>0.135</td>\n",
              "      <td>0.9660</td>\n",
              "      <td>0.4390</td>\n",
              "      <td>0.2145</td>\n",
              "      <td>0.2605</td>\n",
              "      <td>10</td>\n",
              "    </tr>\n",
              "    <tr>\n",
              "      <th>4174</th>\n",
              "      <td>M</td>\n",
              "      <td>0.600</td>\n",
              "      <td>0.475</td>\n",
              "      <td>0.205</td>\n",
              "      <td>1.1760</td>\n",
              "      <td>0.5255</td>\n",
              "      <td>0.2875</td>\n",
              "      <td>0.3080</td>\n",
              "      <td>9</td>\n",
              "    </tr>\n",
              "    <tr>\n",
              "      <th>4175</th>\n",
              "      <td>F</td>\n",
              "      <td>0.625</td>\n",
              "      <td>0.485</td>\n",
              "      <td>0.150</td>\n",
              "      <td>1.0945</td>\n",
              "      <td>0.5310</td>\n",
              "      <td>0.2610</td>\n",
              "      <td>0.2960</td>\n",
              "      <td>10</td>\n",
              "    </tr>\n",
              "    <tr>\n",
              "      <th>4176</th>\n",
              "      <td>M</td>\n",
              "      <td>0.710</td>\n",
              "      <td>0.555</td>\n",
              "      <td>0.195</td>\n",
              "      <td>1.9485</td>\n",
              "      <td>0.9455</td>\n",
              "      <td>0.3765</td>\n",
              "      <td>0.4950</td>\n",
              "      <td>12</td>\n",
              "    </tr>\n",
              "  </tbody>\n",
              "</table>\n",
              "<p>4177 rows × 9 columns</p>\n",
              "</div>"
            ],
            "text/plain": [
              "     sex  length  diameter  ...  viscera_weight  shell_weight  rings\n",
              "0      M   0.455     0.365  ...          0.1010        0.1500     15\n",
              "1      M   0.350     0.265  ...          0.0485        0.0700      7\n",
              "2      F   0.530     0.420  ...          0.1415        0.2100      9\n",
              "3      M   0.440     0.365  ...          0.1140        0.1550     10\n",
              "4      I   0.330     0.255  ...          0.0395        0.0550      7\n",
              "...   ..     ...       ...  ...             ...           ...    ...\n",
              "4172   F   0.565     0.450  ...          0.2390        0.2490     11\n",
              "4173   M   0.590     0.440  ...          0.2145        0.2605     10\n",
              "4174   M   0.600     0.475  ...          0.2875        0.3080      9\n",
              "4175   F   0.625     0.485  ...          0.2610        0.2960     10\n",
              "4176   M   0.710     0.555  ...          0.3765        0.4950     12\n",
              "\n",
              "[4177 rows x 9 columns]"
            ]
          },
          "metadata": {},
          "execution_count": 8
        }
      ]
    },
    {
      "cell_type": "code",
      "metadata": {
        "colab": {
          "base_uri": "https://localhost:8080/"
        },
        "id": "lqTndruau1fq",
        "outputId": "79b5e3f0-3242-4e1a-a64d-6eac1369f206"
      },
      "source": [
        "# 데이터 shape 확인\n",
        "# 딥러닝 (CNN) => 이미지 (데이터수, 가로, 세로, 채널)\n",
        "# 딥러닝 (RNN) => 텍스트, 시계열 (데이터수,시간,세로)\n",
        "abalone_df.shape"
      ],
      "execution_count": 10,
      "outputs": [
        {
          "output_type": "execute_result",
          "data": {
            "text/plain": [
              "(4177, 9)"
            ]
          },
          "metadata": {},
          "execution_count": 10
        }
      ]
    },
    {
      "cell_type": "code",
      "metadata": {
        "colab": {
          "base_uri": "https://localhost:8080/"
        },
        "id": "LAA-0ISnwcPv",
        "outputId": "b71b54c5-a190-4515-ce5b-2638d42cf1d4"
      },
      "source": [
        "# 데이터 결측값 확인 (빈 값은 아니고 null 값만 체크)\n",
        "abalone_df.isnull().sum().sum()"
      ],
      "execution_count": 15,
      "outputs": [
        {
          "output_type": "execute_result",
          "data": {
            "text/plain": [
              "0"
            ]
          },
          "metadata": {},
          "execution_count": 15
        }
      ]
    },
    {
      "cell_type": "code",
      "metadata": {
        "colab": {
          "base_uri": "https://localhost:8080/",
          "height": 297
        },
        "id": "9WOeONTxw014",
        "outputId": "7f546a98-de85-4852-b012-4f6ae1702412"
      },
      "source": [
        "# 기술통계 확인 => 연속형 변수만 확인 => numerical\n",
        "abalone_df.describe()"
      ],
      "execution_count": 17,
      "outputs": [
        {
          "output_type": "execute_result",
          "data": {
            "text/html": [
              "<div>\n",
              "<style scoped>\n",
              "    .dataframe tbody tr th:only-of-type {\n",
              "        vertical-align: middle;\n",
              "    }\n",
              "\n",
              "    .dataframe tbody tr th {\n",
              "        vertical-align: top;\n",
              "    }\n",
              "\n",
              "    .dataframe thead th {\n",
              "        text-align: right;\n",
              "    }\n",
              "</style>\n",
              "<table border=\"1\" class=\"dataframe\">\n",
              "  <thead>\n",
              "    <tr style=\"text-align: right;\">\n",
              "      <th></th>\n",
              "      <th>length</th>\n",
              "      <th>diameter</th>\n",
              "      <th>height</th>\n",
              "      <th>whole_weight</th>\n",
              "      <th>shucked_weight</th>\n",
              "      <th>viscera_weight</th>\n",
              "      <th>shell_weight</th>\n",
              "      <th>rings</th>\n",
              "    </tr>\n",
              "  </thead>\n",
              "  <tbody>\n",
              "    <tr>\n",
              "      <th>count</th>\n",
              "      <td>4177.000000</td>\n",
              "      <td>4177.000000</td>\n",
              "      <td>4177.000000</td>\n",
              "      <td>4177.000000</td>\n",
              "      <td>4177.000000</td>\n",
              "      <td>4177.000000</td>\n",
              "      <td>4177.000000</td>\n",
              "      <td>4177.000000</td>\n",
              "    </tr>\n",
              "    <tr>\n",
              "      <th>mean</th>\n",
              "      <td>0.523992</td>\n",
              "      <td>0.407881</td>\n",
              "      <td>0.139516</td>\n",
              "      <td>0.828742</td>\n",
              "      <td>0.359367</td>\n",
              "      <td>0.180594</td>\n",
              "      <td>0.238831</td>\n",
              "      <td>9.933684</td>\n",
              "    </tr>\n",
              "    <tr>\n",
              "      <th>std</th>\n",
              "      <td>0.120093</td>\n",
              "      <td>0.099240</td>\n",
              "      <td>0.041827</td>\n",
              "      <td>0.490389</td>\n",
              "      <td>0.221963</td>\n",
              "      <td>0.109614</td>\n",
              "      <td>0.139203</td>\n",
              "      <td>3.224169</td>\n",
              "    </tr>\n",
              "    <tr>\n",
              "      <th>min</th>\n",
              "      <td>0.075000</td>\n",
              "      <td>0.055000</td>\n",
              "      <td>0.000000</td>\n",
              "      <td>0.002000</td>\n",
              "      <td>0.001000</td>\n",
              "      <td>0.000500</td>\n",
              "      <td>0.001500</td>\n",
              "      <td>1.000000</td>\n",
              "    </tr>\n",
              "    <tr>\n",
              "      <th>25%</th>\n",
              "      <td>0.450000</td>\n",
              "      <td>0.350000</td>\n",
              "      <td>0.115000</td>\n",
              "      <td>0.441500</td>\n",
              "      <td>0.186000</td>\n",
              "      <td>0.093500</td>\n",
              "      <td>0.130000</td>\n",
              "      <td>8.000000</td>\n",
              "    </tr>\n",
              "    <tr>\n",
              "      <th>50%</th>\n",
              "      <td>0.545000</td>\n",
              "      <td>0.425000</td>\n",
              "      <td>0.140000</td>\n",
              "      <td>0.799500</td>\n",
              "      <td>0.336000</td>\n",
              "      <td>0.171000</td>\n",
              "      <td>0.234000</td>\n",
              "      <td>9.000000</td>\n",
              "    </tr>\n",
              "    <tr>\n",
              "      <th>75%</th>\n",
              "      <td>0.615000</td>\n",
              "      <td>0.480000</td>\n",
              "      <td>0.165000</td>\n",
              "      <td>1.153000</td>\n",
              "      <td>0.502000</td>\n",
              "      <td>0.253000</td>\n",
              "      <td>0.329000</td>\n",
              "      <td>11.000000</td>\n",
              "    </tr>\n",
              "    <tr>\n",
              "      <th>max</th>\n",
              "      <td>0.815000</td>\n",
              "      <td>0.650000</td>\n",
              "      <td>1.130000</td>\n",
              "      <td>2.825500</td>\n",
              "      <td>1.488000</td>\n",
              "      <td>0.760000</td>\n",
              "      <td>1.005000</td>\n",
              "      <td>29.000000</td>\n",
              "    </tr>\n",
              "  </tbody>\n",
              "</table>\n",
              "</div>"
            ],
            "text/plain": [
              "            length     diameter  ...  shell_weight        rings\n",
              "count  4177.000000  4177.000000  ...   4177.000000  4177.000000\n",
              "mean      0.523992     0.407881  ...      0.238831     9.933684\n",
              "std       0.120093     0.099240  ...      0.139203     3.224169\n",
              "min       0.075000     0.055000  ...      0.001500     1.000000\n",
              "25%       0.450000     0.350000  ...      0.130000     8.000000\n",
              "50%       0.545000     0.425000  ...      0.234000     9.000000\n",
              "75%       0.615000     0.480000  ...      0.329000    11.000000\n",
              "max       0.815000     0.650000  ...      1.005000    29.000000\n",
              "\n",
              "[8 rows x 8 columns]"
            ]
          },
          "metadata": {},
          "execution_count": 17
        }
      ]
    },
    {
      "cell_type": "code",
      "metadata": {
        "colab": {
          "base_uri": "https://localhost:8080/"
        },
        "id": "RTkxxyYZxOvv",
        "outputId": "d3ca51f7-e833-4b23-b235-3937836e0a51"
      },
      "source": [
        "# 전복 성별에 따라 group by\n",
        "grouped = abalone_df['whole_weight'].groupby(abalone_df['sex']);"
      ],
      "execution_count": 21,
      "outputs": [
        {
          "output_type": "execute_result",
          "data": {
            "text/plain": [
              "sex\n",
              "F    1367.8175\n",
              "I     578.8885\n",
              "M    1514.9500\n",
              "Name: whole_weight, dtype: float64"
            ]
          },
          "metadata": {},
          "execution_count": 21
        }
      ]
    },
    {
      "cell_type": "code",
      "metadata": {
        "colab": {
          "base_uri": "https://localhost:8080/"
        },
        "id": "XKNl3_2yxee0",
        "outputId": "d52ea44c-5268-43ca-d9c1-6f77c85d8e92"
      },
      "source": [
        "grouped.sum()"
      ],
      "execution_count": 22,
      "outputs": [
        {
          "output_type": "execute_result",
          "data": {
            "text/plain": [
              "sex\n",
              "F    1367.8175\n",
              "I     578.8885\n",
              "M    1514.9500\n",
              "Name: whole_weight, dtype: float64"
            ]
          },
          "metadata": {},
          "execution_count": 22
        }
      ]
    },
    {
      "cell_type": "code",
      "metadata": {
        "colab": {
          "base_uri": "https://localhost:8080/"
        },
        "id": "tHA0surOxuzy",
        "outputId": "346fa0dd-8554-44ec-b75f-74c30145715a"
      },
      "source": [
        "grouped.count()"
      ],
      "execution_count": 24,
      "outputs": [
        {
          "output_type": "execute_result",
          "data": {
            "text/plain": [
              "sex\n",
              "F    1307\n",
              "I    1342\n",
              "M    1528\n",
              "Name: whole_weight, dtype: int64"
            ]
          },
          "metadata": {},
          "execution_count": 24
        }
      ]
    },
    {
      "cell_type": "code",
      "metadata": {
        "colab": {
          "base_uri": "https://localhost:8080/"
        },
        "id": "qksrEqEJxzKI",
        "outputId": "476394f6-af89-44cc-bc83-15a6a0bac1f1"
      },
      "source": [
        "grouped.mean() #이상치 고려해야함"
      ],
      "execution_count": 26,
      "outputs": [
        {
          "output_type": "execute_result",
          "data": {
            "text/plain": [
              "sex\n",
              "F    1.046532\n",
              "I    0.431363\n",
              "M    0.991459\n",
              "Name: whole_weight, dtype: float64"
            ]
          },
          "metadata": {},
          "execution_count": 26
        }
      ]
    },
    {
      "cell_type": "code",
      "metadata": {
        "colab": {
          "base_uri": "https://localhost:8080/"
        },
        "id": "WvhyQTM7yECB",
        "outputId": "17fa894c-79d4-4291-baf2-693802284f16"
      },
      "source": [
        "grouped.size()"
      ],
      "execution_count": 28,
      "outputs": [
        {
          "output_type": "execute_result",
          "data": {
            "text/plain": [
              "sex\n",
              "F    1307\n",
              "I    1342\n",
              "M    1528\n",
              "Name: whole_weight, dtype: int64"
            ]
          },
          "metadata": {},
          "execution_count": 28
        }
      ]
    },
    {
      "cell_type": "code",
      "metadata": {
        "colab": {
          "base_uri": "https://localhost:8080/",
          "height": 173
        },
        "id": "eHAzW4ewyL4H",
        "outputId": "c41f1c36-e275-447b-99fa-86dcdbec24f2"
      },
      "source": [
        "#그룹 변수가 하나가 아닌, 전체 연속형 변수에 대한 집계\n",
        "aa = abalone_df.groupby(abalone_df['sex']).mean();\n",
        "aa"
      ],
      "execution_count": 33,
      "outputs": [
        {
          "output_type": "execute_result",
          "data": {
            "text/html": [
              "<div>\n",
              "<style scoped>\n",
              "    .dataframe tbody tr th:only-of-type {\n",
              "        vertical-align: middle;\n",
              "    }\n",
              "\n",
              "    .dataframe tbody tr th {\n",
              "        vertical-align: top;\n",
              "    }\n",
              "\n",
              "    .dataframe thead th {\n",
              "        text-align: right;\n",
              "    }\n",
              "</style>\n",
              "<table border=\"1\" class=\"dataframe\">\n",
              "  <thead>\n",
              "    <tr style=\"text-align: right;\">\n",
              "      <th></th>\n",
              "      <th>length</th>\n",
              "      <th>diameter</th>\n",
              "      <th>height</th>\n",
              "      <th>whole_weight</th>\n",
              "      <th>shucked_weight</th>\n",
              "      <th>viscera_weight</th>\n",
              "      <th>shell_weight</th>\n",
              "      <th>rings</th>\n",
              "    </tr>\n",
              "    <tr>\n",
              "      <th>sex</th>\n",
              "      <th></th>\n",
              "      <th></th>\n",
              "      <th></th>\n",
              "      <th></th>\n",
              "      <th></th>\n",
              "      <th></th>\n",
              "      <th></th>\n",
              "      <th></th>\n",
              "    </tr>\n",
              "  </thead>\n",
              "  <tbody>\n",
              "    <tr>\n",
              "      <th>F</th>\n",
              "      <td>0.579093</td>\n",
              "      <td>0.454732</td>\n",
              "      <td>0.158011</td>\n",
              "      <td>1.046532</td>\n",
              "      <td>0.446188</td>\n",
              "      <td>0.230689</td>\n",
              "      <td>0.302010</td>\n",
              "      <td>11.129304</td>\n",
              "    </tr>\n",
              "    <tr>\n",
              "      <th>I</th>\n",
              "      <td>0.427746</td>\n",
              "      <td>0.326494</td>\n",
              "      <td>0.107996</td>\n",
              "      <td>0.431363</td>\n",
              "      <td>0.191035</td>\n",
              "      <td>0.092010</td>\n",
              "      <td>0.128182</td>\n",
              "      <td>7.890462</td>\n",
              "    </tr>\n",
              "    <tr>\n",
              "      <th>M</th>\n",
              "      <td>0.561391</td>\n",
              "      <td>0.439287</td>\n",
              "      <td>0.151381</td>\n",
              "      <td>0.991459</td>\n",
              "      <td>0.432946</td>\n",
              "      <td>0.215545</td>\n",
              "      <td>0.281969</td>\n",
              "      <td>10.705497</td>\n",
              "    </tr>\n",
              "  </tbody>\n",
              "</table>\n",
              "</div>"
            ],
            "text/plain": [
              "       length  diameter    height  ...  viscera_weight  shell_weight      rings\n",
              "sex                                ...                                         \n",
              "F    0.579093  0.454732  0.158011  ...        0.230689      0.302010  11.129304\n",
              "I    0.427746  0.326494  0.107996  ...        0.092010      0.128182   7.890462\n",
              "M    0.561391  0.439287  0.151381  ...        0.215545      0.281969  10.705497\n",
              "\n",
              "[3 rows x 8 columns]"
            ]
          },
          "metadata": {},
          "execution_count": 33
        }
      ]
    },
    {
      "cell_type": "code",
      "metadata": {
        "colab": {
          "base_uri": "https://localhost:8080/",
          "height": 173
        },
        "id": "LcaMUd1wylmK",
        "outputId": "e100364b-2561-4046-92db-b10032e1bbd7"
      },
      "source": [
        "abalone_df.groupby('sex').mean()"
      ],
      "execution_count": 36,
      "outputs": [
        {
          "output_type": "execute_result",
          "data": {
            "text/html": [
              "<div>\n",
              "<style scoped>\n",
              "    .dataframe tbody tr th:only-of-type {\n",
              "        vertical-align: middle;\n",
              "    }\n",
              "\n",
              "    .dataframe tbody tr th {\n",
              "        vertical-align: top;\n",
              "    }\n",
              "\n",
              "    .dataframe thead th {\n",
              "        text-align: right;\n",
              "    }\n",
              "</style>\n",
              "<table border=\"1\" class=\"dataframe\">\n",
              "  <thead>\n",
              "    <tr style=\"text-align: right;\">\n",
              "      <th></th>\n",
              "      <th>length</th>\n",
              "      <th>diameter</th>\n",
              "      <th>height</th>\n",
              "      <th>whole_weight</th>\n",
              "      <th>shucked_weight</th>\n",
              "      <th>viscera_weight</th>\n",
              "      <th>shell_weight</th>\n",
              "      <th>rings</th>\n",
              "    </tr>\n",
              "    <tr>\n",
              "      <th>sex</th>\n",
              "      <th></th>\n",
              "      <th></th>\n",
              "      <th></th>\n",
              "      <th></th>\n",
              "      <th></th>\n",
              "      <th></th>\n",
              "      <th></th>\n",
              "      <th></th>\n",
              "    </tr>\n",
              "  </thead>\n",
              "  <tbody>\n",
              "    <tr>\n",
              "      <th>F</th>\n",
              "      <td>0.579093</td>\n",
              "      <td>0.454732</td>\n",
              "      <td>0.158011</td>\n",
              "      <td>1.046532</td>\n",
              "      <td>0.446188</td>\n",
              "      <td>0.230689</td>\n",
              "      <td>0.302010</td>\n",
              "      <td>11.129304</td>\n",
              "    </tr>\n",
              "    <tr>\n",
              "      <th>I</th>\n",
              "      <td>0.427746</td>\n",
              "      <td>0.326494</td>\n",
              "      <td>0.107996</td>\n",
              "      <td>0.431363</td>\n",
              "      <td>0.191035</td>\n",
              "      <td>0.092010</td>\n",
              "      <td>0.128182</td>\n",
              "      <td>7.890462</td>\n",
              "    </tr>\n",
              "    <tr>\n",
              "      <th>M</th>\n",
              "      <td>0.561391</td>\n",
              "      <td>0.439287</td>\n",
              "      <td>0.151381</td>\n",
              "      <td>0.991459</td>\n",
              "      <td>0.432946</td>\n",
              "      <td>0.215545</td>\n",
              "      <td>0.281969</td>\n",
              "      <td>10.705497</td>\n",
              "    </tr>\n",
              "  </tbody>\n",
              "</table>\n",
              "</div>"
            ],
            "text/plain": [
              "       length  diameter    height  ...  viscera_weight  shell_weight      rings\n",
              "sex                                ...                                         \n",
              "F    0.579093  0.454732  0.158011  ...        0.230689      0.302010  11.129304\n",
              "I    0.427746  0.326494  0.107996  ...        0.092010      0.128182   7.890462\n",
              "M    0.561391  0.439287  0.151381  ...        0.215545      0.281969  10.705497\n",
              "\n",
              "[3 rows x 8 columns]"
            ]
          },
          "metadata": {},
          "execution_count": 36
        }
      ]
    },
    {
      "cell_type": "code",
      "metadata": {
        "colab": {
          "base_uri": "https://localhost:8080/",
          "height": 266
        },
        "id": "7MlC3ddZyr7a",
        "outputId": "dc91423d-5d34-4676-bfab-a8a750de2274"
      },
      "source": [
        "# 새로운 조건에 맞는 변수 추가\n",
        "abalone_df['length_bool'] = np.where(\n",
        "    abalone_df['length'] > abalone_df['length'].median(), \n",
        "                                     'length_long',\n",
        "                                     'length_short')\n",
        "abalone_df.groupby(['sex', 'length_bool']).mean() #EDA분석 "
      ],
      "execution_count": 43,
      "outputs": [
        {
          "output_type": "execute_result",
          "data": {
            "text/html": [
              "<div>\n",
              "<style scoped>\n",
              "    .dataframe tbody tr th:only-of-type {\n",
              "        vertical-align: middle;\n",
              "    }\n",
              "\n",
              "    .dataframe tbody tr th {\n",
              "        vertical-align: top;\n",
              "    }\n",
              "\n",
              "    .dataframe thead th {\n",
              "        text-align: right;\n",
              "    }\n",
              "</style>\n",
              "<table border=\"1\" class=\"dataframe\">\n",
              "  <thead>\n",
              "    <tr style=\"text-align: right;\">\n",
              "      <th></th>\n",
              "      <th></th>\n",
              "      <th>length</th>\n",
              "      <th>diameter</th>\n",
              "      <th>height</th>\n",
              "      <th>whole_weight</th>\n",
              "      <th>shucked_weight</th>\n",
              "      <th>viscera_weight</th>\n",
              "      <th>shell_weight</th>\n",
              "      <th>rings</th>\n",
              "    </tr>\n",
              "    <tr>\n",
              "      <th>sex</th>\n",
              "      <th>length_bool</th>\n",
              "      <th></th>\n",
              "      <th></th>\n",
              "      <th></th>\n",
              "      <th></th>\n",
              "      <th></th>\n",
              "      <th></th>\n",
              "      <th></th>\n",
              "      <th></th>\n",
              "    </tr>\n",
              "  </thead>\n",
              "  <tbody>\n",
              "    <tr>\n",
              "      <th rowspan=\"2\" valign=\"top\">F</th>\n",
              "      <th>length_long</th>\n",
              "      <td>0.626895</td>\n",
              "      <td>0.493020</td>\n",
              "      <td>0.169944</td>\n",
              "      <td>1.261330</td>\n",
              "      <td>0.542957</td>\n",
              "      <td>0.276945</td>\n",
              "      <td>0.360013</td>\n",
              "      <td>11.415073</td>\n",
              "    </tr>\n",
              "    <tr>\n",
              "      <th>length_short</th>\n",
              "      <td>0.477428</td>\n",
              "      <td>0.373301</td>\n",
              "      <td>0.132632</td>\n",
              "      <td>0.589702</td>\n",
              "      <td>0.240380</td>\n",
              "      <td>0.132311</td>\n",
              "      <td>0.178650</td>\n",
              "      <td>10.521531</td>\n",
              "    </tr>\n",
              "    <tr>\n",
              "      <th rowspan=\"2\" valign=\"top\">I</th>\n",
              "      <th>length_long</th>\n",
              "      <td>0.584495</td>\n",
              "      <td>0.452952</td>\n",
              "      <td>0.150957</td>\n",
              "      <td>0.923215</td>\n",
              "      <td>0.402524</td>\n",
              "      <td>0.196912</td>\n",
              "      <td>0.273247</td>\n",
              "      <td>10.585106</td>\n",
              "    </tr>\n",
              "    <tr>\n",
              "      <th>length_short</th>\n",
              "      <td>0.402210</td>\n",
              "      <td>0.305893</td>\n",
              "      <td>0.100997</td>\n",
              "      <td>0.351234</td>\n",
              "      <td>0.156581</td>\n",
              "      <td>0.074920</td>\n",
              "      <td>0.104549</td>\n",
              "      <td>7.451473</td>\n",
              "    </tr>\n",
              "    <tr>\n",
              "      <th rowspan=\"2\" valign=\"top\">M</th>\n",
              "      <th>length_long</th>\n",
              "      <td>0.623359</td>\n",
              "      <td>0.489291</td>\n",
              "      <td>0.168670</td>\n",
              "      <td>1.255182</td>\n",
              "      <td>0.554312</td>\n",
              "      <td>0.272203</td>\n",
              "      <td>0.351683</td>\n",
              "      <td>11.299172</td>\n",
              "    </tr>\n",
              "    <tr>\n",
              "      <th>length_short</th>\n",
              "      <td>0.454875</td>\n",
              "      <td>0.353336</td>\n",
              "      <td>0.121664</td>\n",
              "      <td>0.538157</td>\n",
              "      <td>0.224335</td>\n",
              "      <td>0.118156</td>\n",
              "      <td>0.162141</td>\n",
              "      <td>9.685053</td>\n",
              "    </tr>\n",
              "  </tbody>\n",
              "</table>\n",
              "</div>"
            ],
            "text/plain": [
              "                    length  diameter  ...  shell_weight      rings\n",
              "sex length_bool                       ...                         \n",
              "F   length_long   0.626895  0.493020  ...      0.360013  11.415073\n",
              "    length_short  0.477428  0.373301  ...      0.178650  10.521531\n",
              "I   length_long   0.584495  0.452952  ...      0.273247  10.585106\n",
              "    length_short  0.402210  0.305893  ...      0.104549   7.451473\n",
              "M   length_long   0.623359  0.489291  ...      0.351683  11.299172\n",
              "    length_short  0.454875  0.353336  ...      0.162141   9.685053\n",
              "\n",
              "[6 rows x 8 columns]"
            ]
          },
          "metadata": {},
          "execution_count": 43
        }
      ]
    },
    {
      "cell_type": "code",
      "metadata": {
        "colab": {
          "base_uri": "https://localhost:8080/",
          "height": 300
        },
        "id": "HHAf-t1SzxPw",
        "outputId": "47c92dc9-7da2-4099-daee-4ad4454c33a6"
      },
      "source": [
        "abalone_df.groupby(['sex', 'length_bool'])['whole_weight', 'height'].mean()"
      ],
      "execution_count": 45,
      "outputs": [
        {
          "output_type": "stream",
          "name": "stderr",
          "text": [
            "/usr/local/lib/python3.7/dist-packages/ipykernel_launcher.py:1: FutureWarning: Indexing with multiple keys (implicitly converted to a tuple of keys) will be deprecated, use a list instead.\n",
            "  \"\"\"Entry point for launching an IPython kernel.\n"
          ]
        },
        {
          "output_type": "execute_result",
          "data": {
            "text/html": [
              "<div>\n",
              "<style scoped>\n",
              "    .dataframe tbody tr th:only-of-type {\n",
              "        vertical-align: middle;\n",
              "    }\n",
              "\n",
              "    .dataframe tbody tr th {\n",
              "        vertical-align: top;\n",
              "    }\n",
              "\n",
              "    .dataframe thead th {\n",
              "        text-align: right;\n",
              "    }\n",
              "</style>\n",
              "<table border=\"1\" class=\"dataframe\">\n",
              "  <thead>\n",
              "    <tr style=\"text-align: right;\">\n",
              "      <th></th>\n",
              "      <th></th>\n",
              "      <th>whole_weight</th>\n",
              "      <th>height</th>\n",
              "    </tr>\n",
              "    <tr>\n",
              "      <th>sex</th>\n",
              "      <th>length_bool</th>\n",
              "      <th></th>\n",
              "      <th></th>\n",
              "    </tr>\n",
              "  </thead>\n",
              "  <tbody>\n",
              "    <tr>\n",
              "      <th rowspan=\"2\" valign=\"top\">F</th>\n",
              "      <th>length_long</th>\n",
              "      <td>1.261330</td>\n",
              "      <td>0.169944</td>\n",
              "    </tr>\n",
              "    <tr>\n",
              "      <th>length_short</th>\n",
              "      <td>0.589702</td>\n",
              "      <td>0.132632</td>\n",
              "    </tr>\n",
              "    <tr>\n",
              "      <th rowspan=\"2\" valign=\"top\">I</th>\n",
              "      <th>length_long</th>\n",
              "      <td>0.923215</td>\n",
              "      <td>0.150957</td>\n",
              "    </tr>\n",
              "    <tr>\n",
              "      <th>length_short</th>\n",
              "      <td>0.351234</td>\n",
              "      <td>0.100997</td>\n",
              "    </tr>\n",
              "    <tr>\n",
              "      <th rowspan=\"2\" valign=\"top\">M</th>\n",
              "      <th>length_long</th>\n",
              "      <td>1.255182</td>\n",
              "      <td>0.168670</td>\n",
              "    </tr>\n",
              "    <tr>\n",
              "      <th>length_short</th>\n",
              "      <td>0.538157</td>\n",
              "      <td>0.121664</td>\n",
              "    </tr>\n",
              "  </tbody>\n",
              "</table>\n",
              "</div>"
            ],
            "text/plain": [
              "                  whole_weight    height\n",
              "sex length_bool                         \n",
              "F   length_long       1.261330  0.169944\n",
              "    length_short      0.589702  0.132632\n",
              "I   length_long       0.923215  0.150957\n",
              "    length_short      0.351234  0.100997\n",
              "M   length_long       1.255182  0.168670\n",
              "    length_short      0.538157  0.121664"
            ]
          },
          "metadata": {},
          "execution_count": 45
        }
      ]
    }
  ]
}