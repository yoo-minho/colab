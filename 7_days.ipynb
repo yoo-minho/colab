{
  "nbformat": 4,
  "nbformat_minor": 0,
  "metadata": {
    "colab": {
      "name": "7 days.ipynb",
      "provenance": [],
      "collapsed_sections": [],
      "mount_file_id": "1DMDoSpCFkZEFNuFCyHHDElO0KM3E4NGF",
      "authorship_tag": "ABX9TyOkj4fToq17Y8NeS7CAjsXP",
      "include_colab_link": true
    },
    "kernelspec": {
      "name": "python3",
      "display_name": "Python 3"
    },
    "language_info": {
      "name": "python"
    }
  },
  "cells": [
    {
      "cell_type": "markdown",
      "metadata": {
        "id": "view-in-github",
        "colab_type": "text"
      },
      "source": [
        "<a href=\"https://colab.research.google.com/github/yoo-minho/colab/blob/main/7_days.ipynb\" target=\"_parent\"><img src=\"https://colab.research.google.com/assets/colab-badge.svg\" alt=\"Open In Colab\"/></a>"
      ]
    },
    {
      "cell_type": "code",
      "metadata": {
        "id": "twqeNBEmGegz"
      },
      "source": [
        "import numpy as np\n",
        "import pandas as pd\n",
        "\n",
        "import matplotlib.pyplot as plt\n",
        "import seaborn as sns\n",
        "import warnings\n",
        "\n",
        "plt.rcParams['figure.figsize'] = [10,8]\n",
        "sns.set(style='whitegrid')\n",
        "sns.set_palette('pastel')\n",
        "warnings.filterwarnings('ignore')"
      ],
      "execution_count": 6,
      "outputs": []
    },
    {
      "cell_type": "code",
      "metadata": {
        "id": "TMsuQN4HHv0N"
      },
      "source": [
        "# % 한글이 깨지는 경우\n",
        "from matplotlib import font_manager, rc\n",
        "import matplotlib\n",
        "import platform\n",
        "\n",
        "if platform.system() == 'Windows' :\n",
        "  # 윈도우인 경우\n",
        "  font_name = font_manager.FontProperties(fname='c:/Windows/Fonts/malgun.ttf');\n",
        "  rc('font', family=font_name)\n",
        "else :\n",
        " # Mac 경우\n",
        " rc('font', family='AppleGothic')\n",
        "\n",
        " matplotlib.rcParams['axes.unicode_minus'] = False"
      ],
      "execution_count": 24,
      "outputs": []
    },
    {
      "cell_type": "code",
      "metadata": {
        "colab": {
          "base_uri": "https://localhost:8080/"
        },
        "id": "OMRQNFMGIrwd",
        "outputId": "3e1a5452-39a0-4765-f54b-4e3d2e4a5552"
      },
      "source": [
        "# Loading 'Tips' dataset from seaborn\n",
        "tips = sns.load_dataset('tips');\n",
        "tips.shape"
      ],
      "execution_count": 15,
      "outputs": [
        {
          "output_type": "execute_result",
          "data": {
            "text/plain": [
              "(244, 7)"
            ]
          },
          "metadata": {},
          "execution_count": 15
        }
      ]
    },
    {
      "cell_type": "code",
      "metadata": {
        "colab": {
          "base_uri": "https://localhost:8080/"
        },
        "id": "Qi74y_qpI8RY",
        "outputId": "f7351fb2-b663-4784-9e76-3487830bfcdd"
      },
      "source": [
        "# matplotlib 을 활용한 시각화\n",
        "sum_tip_by_day = tips.groupby('day')['tip'].sum()\n",
        "sum_tip_by_day"
      ],
      "execution_count": 18,
      "outputs": [
        {
          "output_type": "execute_result",
          "data": {
            "text/plain": [
              "day\n",
              "Thur    171.83\n",
              "Fri      51.96\n",
              "Sat     260.40\n",
              "Sun     247.39\n",
              "Name: tip, dtype: float64"
            ]
          },
          "metadata": {},
          "execution_count": 18
        }
      ]
    },
    {
      "cell_type": "code",
      "metadata": {
        "colab": {
          "base_uri": "https://localhost:8080/"
        },
        "id": "5s_9UA13JIVX",
        "outputId": "3d58e2b2-9550-43f0-9b6f-ff0ae4f01162"
      },
      "source": [
        "x_label = ['Thu', 'Fri', 'Sat', 'Sun']\n",
        "x_label_index = np.arange(len(x_label))\n",
        "x_label_index"
      ],
      "execution_count": 26,
      "outputs": [
        {
          "output_type": "execute_result",
          "data": {
            "text/plain": [
              "array([0, 1, 2, 3])"
            ]
          },
          "metadata": {},
          "execution_count": 26
        }
      ]
    },
    {
      "cell_type": "code",
      "metadata": {
        "colab": {
          "base_uri": "https://localhost:8080/",
          "height": 530
        },
        "id": "UvgUrHJoJatd",
        "outputId": "c621cafa-3da4-48f6-8917-84ce203defd3"
      },
      "source": [
        "# Bar 차트 이해 및 제작\n",
        "plt.bar(x_label, sum_tip_by_day,\n",
        "        color='pink',\n",
        "        alpha=0.6,\n",
        "        width=0.3,\n",
        "        align='edge'\n",
        "        )\n",
        "plt.title(' Sum Of Tips by Days')\n",
        "plt.xlabel('Days')\n",
        "plt.ylabel('Sum Of Tips')\n",
        "plt.xticks(x_label_index,\n",
        "          x_label,\n",
        "           rotation=45)\n",
        "plt.show()"
      ],
      "execution_count": 39,
      "outputs": [
        {
          "output_type": "display_data",
          "data": {
            "image/png": "[encoded data removed]",
            "text/plain": [
              "<Figure size 720x576 with 1 Axes>"
            ]
          },
          "metadata": {}
        }
      ]
    },
    {
      "cell_type": "code",
      "metadata": {
        "colab": {
          "base_uri": "https://localhost:8080/",
          "height": 530
        },
        "id": "Du_Dc8TlK89h",
        "outputId": "6170d147-6116-4cb3-f212-c2929e3185c7"
      },
      "source": [
        "# seavborn 활용\n",
        "sns.barplot(data=tips, \n",
        "            x = 'day', \n",
        "            y= 'tip',\n",
        "            estimator=np.average,\n",
        "            hue = 'sex',\n",
        "            palette='pastel',\n",
        "            order=['Sun', 'Sat', 'Fri', 'Thur'],\n",
        "            edgecolor='.6',\n",
        "            linewidth=2.5\n",
        "            )\n",
        "plt.title(' Average Of Tips by Days')\n",
        "plt.xlabel('Days')\n",
        "plt.ylabel('Average Of Tips')\n",
        "plt.xticks(x_label_index,\n",
        "          x_label,\n",
        "           rotation=45)\n",
        "plt.show()"
      ],
      "execution_count": 54,
      "outputs": [
        {
          "output_type": "display_data",
          "data": {
            "image/png": "[encoded data removed]",
            "text/plain": [
              "<Figure size 720x576 with 1 Axes>"
            ]
          },
          "metadata": {}
        }
      ]
    }
  ]
}